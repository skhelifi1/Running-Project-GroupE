{
 "cells": [
  {
   "cell_type": "code",
   "execution_count": 1,
   "metadata": {},
   "outputs": [],
   "source": [
    "# Dependencies\n",
    "import numpy as np\n",
    "import pandas as pd\n",
    "import matplotlib.pyplot as plt\n",
    "from scipy.stats import linregress"
   ]
  },
  {
   "cell_type": "code",
   "execution_count": 2,
   "metadata": {},
   "outputs": [
    {
     "data": {
      "text/html": [
       "<div>\n",
       "<style scoped>\n",
       "    .dataframe tbody tr th:only-of-type {\n",
       "        vertical-align: middle;\n",
       "    }\n",
       "\n",
       "    .dataframe tbody tr th {\n",
       "        vertical-align: top;\n",
       "    }\n",
       "\n",
       "    .dataframe thead th {\n",
       "        text-align: right;\n",
       "    }\n",
       "</style>\n",
       "<table border=\"1\" class=\"dataframe\">\n",
       "  <thead>\n",
       "    <tr style=\"text-align: right;\">\n",
       "      <th></th>\n",
       "      <th>BibNumber</th>\n",
       "      <th>FullName</th>\n",
       "      <th>SortName</th>\n",
       "      <th>AgeOnRaceDay</th>\n",
       "      <th>Gender</th>\n",
       "      <th>City</th>\n",
       "      <th>StateAbbrev</th>\n",
       "      <th>StateName</th>\n",
       "      <th>Zip</th>\n",
       "      <th>CountryOfResAbbrev</th>\n",
       "      <th>CountryOfResName</th>\n",
       "      <th>CountryOfCtzAbbrev</th>\n",
       "      <th>CountryOfCtzName</th>\n",
       "      <th>OfficialTime</th>\n",
       "      <th>RankOverall</th>\n",
       "      <th>RankOverGender</th>\n",
       "      <th>RankOverDivision</th>\n",
       "      <th>EventGroup</th>\n",
       "      <th>SubGroupLabel</th>\n",
       "      <th>SubGroup</th>\n",
       "    </tr>\n",
       "  </thead>\n",
       "  <tbody>\n",
       "    <tr>\n",
       "      <th>0</th>\n",
       "      <td>2</td>\n",
       "      <td>Lawrence Cherono</td>\n",
       "      <td>Cherono, Lawrence</td>\n",
       "      <td>30</td>\n",
       "      <td>M</td>\n",
       "      <td>Eldoret</td>\n",
       "      <td>NaN</td>\n",
       "      <td>NaN</td>\n",
       "      <td>NaN</td>\n",
       "      <td>KEN</td>\n",
       "      <td>Kenya</td>\n",
       "      <td>KEN</td>\n",
       "      <td>Kenya</td>\n",
       "      <td>2:07:57</td>\n",
       "      <td>1</td>\n",
       "      <td>1</td>\n",
       "      <td>1</td>\n",
       "      <td>Runners</td>\n",
       "      <td>NaN</td>\n",
       "      <td>NaN</td>\n",
       "    </tr>\n",
       "    <tr>\n",
       "      <th>1</th>\n",
       "      <td>6</td>\n",
       "      <td>Lelisa Desisa</td>\n",
       "      <td>Desisa, Lelisa</td>\n",
       "      <td>29</td>\n",
       "      <td>M</td>\n",
       "      <td>Ambo</td>\n",
       "      <td>NaN</td>\n",
       "      <td>NaN</td>\n",
       "      <td>NaN</td>\n",
       "      <td>ETH</td>\n",
       "      <td>Ethiopia</td>\n",
       "      <td>ETH</td>\n",
       "      <td>Ethiopia</td>\n",
       "      <td>2:07:59</td>\n",
       "      <td>2</td>\n",
       "      <td>2</td>\n",
       "      <td>2</td>\n",
       "      <td>Runners</td>\n",
       "      <td>NaN</td>\n",
       "      <td>NaN</td>\n",
       "    </tr>\n",
       "    <tr>\n",
       "      <th>2</th>\n",
       "      <td>7</td>\n",
       "      <td>Kenneth Kipkemoi</td>\n",
       "      <td>Kipkemoi, Kenneth</td>\n",
       "      <td>34</td>\n",
       "      <td>M</td>\n",
       "      <td>Eldoret</td>\n",
       "      <td>NaN</td>\n",
       "      <td>NaN</td>\n",
       "      <td>NaN</td>\n",
       "      <td>KEN</td>\n",
       "      <td>Kenya</td>\n",
       "      <td>KEN</td>\n",
       "      <td>Kenya</td>\n",
       "      <td>2:08:07</td>\n",
       "      <td>3</td>\n",
       "      <td>3</td>\n",
       "      <td>3</td>\n",
       "      <td>Runners</td>\n",
       "      <td>NaN</td>\n",
       "      <td>NaN</td>\n",
       "    </tr>\n",
       "    <tr>\n",
       "      <th>3</th>\n",
       "      <td>8</td>\n",
       "      <td>Felix Kandie</td>\n",
       "      <td>Kandie, Felix</td>\n",
       "      <td>32</td>\n",
       "      <td>M</td>\n",
       "      <td>Iten</td>\n",
       "      <td>NaN</td>\n",
       "      <td>NaN</td>\n",
       "      <td>NaN</td>\n",
       "      <td>KEN</td>\n",
       "      <td>Kenya</td>\n",
       "      <td>KEN</td>\n",
       "      <td>Kenya</td>\n",
       "      <td>2:08:54</td>\n",
       "      <td>4</td>\n",
       "      <td>4</td>\n",
       "      <td>4</td>\n",
       "      <td>Runners</td>\n",
       "      <td>NaN</td>\n",
       "      <td>NaN</td>\n",
       "    </tr>\n",
       "    <tr>\n",
       "      <th>4</th>\n",
       "      <td>11</td>\n",
       "      <td>Geoffrey Kirui</td>\n",
       "      <td>Kirui, Geoffrey</td>\n",
       "      <td>26</td>\n",
       "      <td>M</td>\n",
       "      <td>Keringet</td>\n",
       "      <td>NaN</td>\n",
       "      <td>NaN</td>\n",
       "      <td>NaN</td>\n",
       "      <td>KEN</td>\n",
       "      <td>Kenya</td>\n",
       "      <td>KEN</td>\n",
       "      <td>Kenya</td>\n",
       "      <td>2:08:55</td>\n",
       "      <td>5</td>\n",
       "      <td>5</td>\n",
       "      <td>5</td>\n",
       "      <td>Runners</td>\n",
       "      <td>NaN</td>\n",
       "      <td>NaN</td>\n",
       "    </tr>\n",
       "  </tbody>\n",
       "</table>\n",
       "</div>"
      ],
      "text/plain": [
       "  BibNumber          FullName           SortName AgeOnRaceDay Gender  \\\n",
       "0         2  Lawrence Cherono  Cherono, Lawrence           30      M   \n",
       "1         6     Lelisa Desisa     Desisa, Lelisa           29      M   \n",
       "2         7  Kenneth Kipkemoi  Kipkemoi, Kenneth           34      M   \n",
       "3         8      Felix Kandie      Kandie, Felix           32      M   \n",
       "4        11    Geoffrey Kirui    Kirui, Geoffrey           26      M   \n",
       "\n",
       "       City StateAbbrev StateName  Zip CountryOfResAbbrev CountryOfResName  \\\n",
       "0   Eldoret         NaN       NaN  NaN                KEN            Kenya   \n",
       "1      Ambo         NaN       NaN  NaN                ETH         Ethiopia   \n",
       "2   Eldoret         NaN       NaN  NaN                KEN            Kenya   \n",
       "3      Iten         NaN       NaN  NaN                KEN            Kenya   \n",
       "4  Keringet         NaN       NaN  NaN                KEN            Kenya   \n",
       "\n",
       "  CountryOfCtzAbbrev CountryOfCtzName OfficialTime RankOverall  \\\n",
       "0                KEN            Kenya      2:07:57           1   \n",
       "1                ETH         Ethiopia      2:07:59           2   \n",
       "2                KEN            Kenya      2:08:07           3   \n",
       "3                KEN            Kenya      2:08:54           4   \n",
       "4                KEN            Kenya      2:08:55           5   \n",
       "\n",
       "   RankOverGender  RankOverDivision EventGroup SubGroupLabel SubGroup  \n",
       "0               1                 1    Runners           NaN      NaN  \n",
       "1               2                 2    Runners           NaN      NaN  \n",
       "2               3                 3    Runners           NaN      NaN  \n",
       "3               4                 4    Runners           NaN      NaN  \n",
       "4               5                 5    Runners           NaN      NaN  "
      ]
     },
     "execution_count": 2,
     "metadata": {},
     "output_type": "execute_result"
    }
   ],
   "source": [
    "# Create reference to CSV file\n",
    "runners_data = \"Resources/2019boston_marathon_runners.csv\"\n",
    "runners_data_df = pd.read_csv(runners_data)\n",
    "runners_data_df.head()"
   ]
  },
  {
   "cell_type": "code",
   "execution_count": 3,
   "metadata": {},
   "outputs": [
    {
     "data": {
      "text/plain": [
       "BibNumber             26656\n",
       "FullName              26656\n",
       "SortName              26656\n",
       "AgeOnRaceDay          26656\n",
       "Gender                26656\n",
       "City                  26655\n",
       "StateAbbrev           21604\n",
       "StateName             21603\n",
       "Zip                   26580\n",
       "CountryOfResAbbrev    26656\n",
       "CountryOfResName      26656\n",
       "CountryOfCtzAbbrev    26656\n",
       "CountryOfCtzName      26656\n",
       "OfficialTime          26656\n",
       "RankOverall           26656\n",
       "RankOverGender        26656\n",
       "RankOverDivision      26656\n",
       "EventGroup            26656\n",
       "SubGroupLabel           114\n",
       "SubGroup                113\n",
       "dtype: int64"
      ]
     },
     "execution_count": 3,
     "metadata": {},
     "output_type": "execute_result"
    }
   ],
   "source": [
    "# Look over all dirty data\n",
    "runners_data_df.count()"
   ]
  },
  {
   "cell_type": "code",
   "execution_count": 4,
   "metadata": {},
   "outputs": [
    {
     "data": {
      "text/plain": [
       "SubGroupLabel\n",
       "DUO         9\n",
       "MI         55\n",
       "Runners     1\n",
       "VI         49\n",
       "Name: SubGroupLabel, dtype: int64"
      ]
     },
     "execution_count": 4,
     "metadata": {},
     "output_type": "execute_result"
    }
   ],
   "source": [
    "# Look deeper within the DataFrame and Remove SubGrouped Runners\n",
    "runnersgroups = runners_data_df.groupby(\"SubGroupLabel\")\n",
    "runnersgroups[\"SubGroupLabel\"].count()"
   ]
  },
  {
   "cell_type": "code",
   "execution_count": 5,
   "metadata": {},
   "outputs": [
    {
     "data": {
      "text/html": [
       "<div>\n",
       "<style scoped>\n",
       "    .dataframe tbody tr th:only-of-type {\n",
       "        vertical-align: middle;\n",
       "    }\n",
       "\n",
       "    .dataframe tbody tr th {\n",
       "        vertical-align: top;\n",
       "    }\n",
       "\n",
       "    .dataframe thead th {\n",
       "        text-align: right;\n",
       "    }\n",
       "</style>\n",
       "<table border=\"1\" class=\"dataframe\">\n",
       "  <thead>\n",
       "    <tr style=\"text-align: right;\">\n",
       "      <th></th>\n",
       "      <th>BibNumber</th>\n",
       "      <th>FullName</th>\n",
       "      <th>SortName</th>\n",
       "      <th>AgeOnRaceDay</th>\n",
       "      <th>Gender</th>\n",
       "      <th>City</th>\n",
       "      <th>StateAbbrev</th>\n",
       "      <th>StateName</th>\n",
       "      <th>Zip</th>\n",
       "      <th>CountryOfResAbbrev</th>\n",
       "      <th>CountryOfResName</th>\n",
       "      <th>CountryOfCtzAbbrev</th>\n",
       "      <th>CountryOfCtzName</th>\n",
       "      <th>OfficialTime</th>\n",
       "      <th>RankOverall</th>\n",
       "      <th>RankOverGender</th>\n",
       "      <th>RankOverDivision</th>\n",
       "      <th>EventGroup</th>\n",
       "      <th>SubGroupLabel</th>\n",
       "      <th>SubGroup</th>\n",
       "    </tr>\n",
       "  </thead>\n",
       "  <tbody>\n",
       "    <tr>\n",
       "      <th>26368</th>\n",
       "      <td>28913</td>\n",
       "      <td>Pamela OConnell\"</td>\n",
       "      <td>OConnell</td>\n",
       "      <td>Pamela\"</td>\n",
       "      <td>62</td>\n",
       "      <td>F</td>\n",
       "      <td>Leighton Buzzard</td>\n",
       "      <td>NaN</td>\n",
       "      <td>NaN</td>\n",
       "      <td>LU7 4UF</td>\n",
       "      <td>GBR</td>\n",
       "      <td>United Kingdom</td>\n",
       "      <td>GBR</td>\n",
       "      <td>United Kingdom</td>\n",
       "      <td>5:46:30</td>\n",
       "      <td>26143</td>\n",
       "      <td>11695</td>\n",
       "      <td>414</td>\n",
       "      <td>Runners</td>\n",
       "      <td>NaN</td>\n",
       "    </tr>\n",
       "  </tbody>\n",
       "</table>\n",
       "</div>"
      ],
      "text/plain": [
       "      BibNumber          FullName  SortName AgeOnRaceDay Gender City  \\\n",
       "26368     28913  Pamela OConnell\"  OConnell      Pamela\"     62    F   \n",
       "\n",
       "            StateAbbrev StateName  Zip CountryOfResAbbrev CountryOfResName  \\\n",
       "26368  Leighton Buzzard       NaN  NaN            LU7 4UF              GBR   \n",
       "\n",
       "      CountryOfCtzAbbrev CountryOfCtzName    OfficialTime RankOverall  \\\n",
       "26368     United Kingdom              GBR  United Kingdom     5:46:30   \n",
       "\n",
       "       RankOverGender  RankOverDivision EventGroup SubGroupLabel SubGroup  \n",
       "26368           26143             11695        414       Runners      NaN  "
      ]
     },
     "execution_count": 5,
     "metadata": {},
     "output_type": "execute_result"
    }
   ],
   "source": [
    "# Remove useless gender that misguided data along with\n",
    "runnersgroups_df = runners_data_df.loc[runners_data_df[\"Gender\"] == \"62\"]\n",
    "runnersgroups_df"
   ]
  },
  {
   "cell_type": "code",
   "execution_count": 6,
   "metadata": {},
   "outputs": [
    {
     "data": {
      "text/plain": [
       "BibNumber             26542\n",
       "FullName              26542\n",
       "SortName              26542\n",
       "AgeOnRaceDay          26542\n",
       "Gender                26542\n",
       "City                  26541\n",
       "StateAbbrev           21501\n",
       "StateName             21501\n",
       "Zip                   26467\n",
       "CountryOfResAbbrev    26542\n",
       "CountryOfResName      26542\n",
       "CountryOfCtzAbbrev    26542\n",
       "CountryOfCtzName      26542\n",
       "OfficialTime          26542\n",
       "RankOverall           26542\n",
       "RankOverGender        26542\n",
       "RankOverDivision      26542\n",
       "EventGroup            26542\n",
       "SubGroupLabel             0\n",
       "SubGroup                  0\n",
       "dtype: int64"
      ]
     },
     "execution_count": 6,
     "metadata": {},
     "output_type": "execute_result"
    }
   ],
   "source": [
    "# Run DataFrame to make sure theres no Subgroups\n",
    "runnerscleangroup_df = runners_data_df.loc[runners_data_df[\"SubGroupLabel\"].isnull()]\n",
    "runnerscleangroup_df.count()"
   ]
  },
  {
   "cell_type": "code",
   "execution_count": 7,
   "metadata": {},
   "outputs": [
    {
     "data": {
      "text/plain": [
       "Gender\n",
       "F    11947\n",
       "M    14595\n",
       "Name: Gender, dtype: int64"
      ]
     },
     "execution_count": 7,
     "metadata": {},
     "output_type": "execute_result"
    }
   ],
   "source": [
    "# Confirm the removel of Gender 62 from DataFrame\n",
    "subgrouplabel = runnerscleangroup_df.groupby(\"Gender\")\n",
    "subgrouplabel[\"Gender\"].count()"
   ]
  },
  {
   "cell_type": "code",
   "execution_count": 8,
   "metadata": {
    "scrolled": true
   },
   "outputs": [
    {
     "data": {
      "text/html": [
       "<div>\n",
       "<style scoped>\n",
       "    .dataframe tbody tr th:only-of-type {\n",
       "        vertical-align: middle;\n",
       "    }\n",
       "\n",
       "    .dataframe tbody tr th {\n",
       "        vertical-align: top;\n",
       "    }\n",
       "\n",
       "    .dataframe thead th {\n",
       "        text-align: right;\n",
       "    }\n",
       "</style>\n",
       "<table border=\"1\" class=\"dataframe\">\n",
       "  <thead>\n",
       "    <tr style=\"text-align: right;\">\n",
       "      <th></th>\n",
       "      <th>OfficialTime</th>\n",
       "    </tr>\n",
       "    <tr>\n",
       "      <th>Gender</th>\n",
       "      <th></th>\n",
       "    </tr>\n",
       "  </thead>\n",
       "  <tbody>\n",
       "    <tr>\n",
       "      <th>M</th>\n",
       "      <td>2:07:57</td>\n",
       "    </tr>\n",
       "    <tr>\n",
       "      <th>M</th>\n",
       "      <td>2:07:59</td>\n",
       "    </tr>\n",
       "    <tr>\n",
       "      <th>M</th>\n",
       "      <td>2:08:07</td>\n",
       "    </tr>\n",
       "    <tr>\n",
       "      <th>M</th>\n",
       "      <td>2:08:54</td>\n",
       "    </tr>\n",
       "    <tr>\n",
       "      <th>M</th>\n",
       "      <td>2:08:55</td>\n",
       "    </tr>\n",
       "    <tr>\n",
       "      <th>...</th>\n",
       "      <td>...</td>\n",
       "    </tr>\n",
       "    <tr>\n",
       "      <th>F</th>\n",
       "      <td>6:16:56</td>\n",
       "    </tr>\n",
       "    <tr>\n",
       "      <th>F</th>\n",
       "      <td>6:18:13</td>\n",
       "    </tr>\n",
       "    <tr>\n",
       "      <th>F</th>\n",
       "      <td>6:21:19</td>\n",
       "    </tr>\n",
       "    <tr>\n",
       "      <th>F</th>\n",
       "      <td>6:22:27</td>\n",
       "    </tr>\n",
       "    <tr>\n",
       "      <th>F</th>\n",
       "      <td>6:35:50</td>\n",
       "    </tr>\n",
       "  </tbody>\n",
       "</table>\n",
       "<p>26542 rows × 1 columns</p>\n",
       "</div>"
      ],
      "text/plain": [
       "       OfficialTime\n",
       "Gender             \n",
       "M           2:07:57\n",
       "M           2:07:59\n",
       "M           2:08:07\n",
       "M           2:08:54\n",
       "M           2:08:55\n",
       "...             ...\n",
       "F           6:16:56\n",
       "F           6:18:13\n",
       "F           6:21:19\n",
       "F           6:22:27\n",
       "F           6:35:50\n",
       "\n",
       "[26542 rows x 1 columns]"
      ]
     },
     "execution_count": 8,
     "metadata": {},
     "output_type": "execute_result"
    }
   ],
   "source": [
    "#drop(lables,axis, index, columns, levels, inplace, errors)\n",
    "# Keep Runners Gender, OfficialTime\n",
    "\n",
    "runnersgender = runnerscleangroup_df.drop(columns=['FullName','BibNumber','City', 'AgeOnRaceDay','StateAbbrev','SortName', 'Zip',\n",
    "                     'StateName','CountryOfResAbbrev','CountryOfCtzAbbrev','CountryOfCtzName',\n",
    "                     'CountryOfResName','RankOverDivision','EventGroup','SubGroup','SubGroupLabel','RankOverall',\n",
    "                     'RankOverGender'],axis=1)\n",
    "\n",
    "runnersgender = runnersgender.set_index('Gender')\n",
    "runnersgender"
   ]
  },
  {
   "cell_type": "code",
   "execution_count": 9,
   "metadata": {},
   "outputs": [
    {
     "data": {
      "text/plain": [
       "0         [M]\n",
       "1         [M]\n",
       "2         [M]\n",
       "3         [M]\n",
       "4         [M]\n",
       "         ... \n",
       "26648    [, ]\n",
       "26649    [, ]\n",
       "26650    [, ]\n",
       "26651    [, ]\n",
       "26652    [, ]\n",
       "Name: Gender, Length: 26542, dtype: object"
      ]
     },
     "execution_count": 9,
     "metadata": {},
     "output_type": "execute_result"
    }
   ],
   "source": [
    "# Split the two Genders apart so you can apply to charts\n",
    "runnerscleangroup_df['Gender'].str.split('F',n=1)"
   ]
  },
  {
   "cell_type": "code",
   "execution_count": 10,
   "metadata": {},
   "outputs": [
    {
     "data": {
      "text/html": [
       "<div>\n",
       "<style scoped>\n",
       "    .dataframe tbody tr th:only-of-type {\n",
       "        vertical-align: middle;\n",
       "    }\n",
       "\n",
       "    .dataframe tbody tr th {\n",
       "        vertical-align: top;\n",
       "    }\n",
       "\n",
       "    .dataframe thead th {\n",
       "        text-align: right;\n",
       "    }\n",
       "</style>\n",
       "<table border=\"1\" class=\"dataframe\">\n",
       "  <thead>\n",
       "    <tr style=\"text-align: right;\">\n",
       "      <th></th>\n",
       "      <th>0</th>\n",
       "      <th>1</th>\n",
       "    </tr>\n",
       "  </thead>\n",
       "  <tbody>\n",
       "    <tr>\n",
       "      <th>0</th>\n",
       "      <td>M</td>\n",
       "      <td>None</td>\n",
       "    </tr>\n",
       "    <tr>\n",
       "      <th>1</th>\n",
       "      <td>M</td>\n",
       "      <td>None</td>\n",
       "    </tr>\n",
       "    <tr>\n",
       "      <th>2</th>\n",
       "      <td>M</td>\n",
       "      <td>None</td>\n",
       "    </tr>\n",
       "    <tr>\n",
       "      <th>3</th>\n",
       "      <td>M</td>\n",
       "      <td>None</td>\n",
       "    </tr>\n",
       "    <tr>\n",
       "      <th>4</th>\n",
       "      <td>M</td>\n",
       "      <td>None</td>\n",
       "    </tr>\n",
       "    <tr>\n",
       "      <th>...</th>\n",
       "      <td>...</td>\n",
       "      <td>...</td>\n",
       "    </tr>\n",
       "    <tr>\n",
       "      <th>26648</th>\n",
       "      <td></td>\n",
       "      <td></td>\n",
       "    </tr>\n",
       "    <tr>\n",
       "      <th>26649</th>\n",
       "      <td></td>\n",
       "      <td></td>\n",
       "    </tr>\n",
       "    <tr>\n",
       "      <th>26650</th>\n",
       "      <td></td>\n",
       "      <td></td>\n",
       "    </tr>\n",
       "    <tr>\n",
       "      <th>26651</th>\n",
       "      <td></td>\n",
       "      <td></td>\n",
       "    </tr>\n",
       "    <tr>\n",
       "      <th>26652</th>\n",
       "      <td></td>\n",
       "      <td></td>\n",
       "    </tr>\n",
       "  </tbody>\n",
       "</table>\n",
       "<p>26542 rows × 2 columns</p>\n",
       "</div>"
      ],
      "text/plain": [
       "       0     1\n",
       "0      M  None\n",
       "1      M  None\n",
       "2      M  None\n",
       "3      M  None\n",
       "4      M  None\n",
       "...   ..   ...\n",
       "26648         \n",
       "26649         \n",
       "26650         \n",
       "26651         \n",
       "26652         \n",
       "\n",
       "[26542 rows x 2 columns]"
      ]
     },
     "execution_count": 10,
     "metadata": {},
     "output_type": "execute_result"
    }
   ],
   "source": [
    "split_genders = runnerscleangroup_df['Gender'].str.split('F',n=1,expand=True)\n",
    "split_genders"
   ]
  },
  {
   "cell_type": "code",
   "execution_count": 11,
   "metadata": {},
   "outputs": [
    {
     "data": {
      "text/html": [
       "<div>\n",
       "<style scoped>\n",
       "    .dataframe tbody tr th:only-of-type {\n",
       "        vertical-align: middle;\n",
       "    }\n",
       "\n",
       "    .dataframe tbody tr th {\n",
       "        vertical-align: top;\n",
       "    }\n",
       "\n",
       "    .dataframe thead th {\n",
       "        text-align: right;\n",
       "    }\n",
       "</style>\n",
       "<table border=\"1\" class=\"dataframe\">\n",
       "  <thead>\n",
       "    <tr style=\"text-align: right;\">\n",
       "      <th></th>\n",
       "      <th>0</th>\n",
       "      <th>1</th>\n",
       "    </tr>\n",
       "  </thead>\n",
       "  <tbody>\n",
       "    <tr>\n",
       "      <th>count</th>\n",
       "      <td>26542</td>\n",
       "      <td>11947</td>\n",
       "    </tr>\n",
       "    <tr>\n",
       "      <th>unique</th>\n",
       "      <td>2</td>\n",
       "      <td>1</td>\n",
       "    </tr>\n",
       "    <tr>\n",
       "      <th>top</th>\n",
       "      <td>M</td>\n",
       "      <td></td>\n",
       "    </tr>\n",
       "    <tr>\n",
       "      <th>freq</th>\n",
       "      <td>14595</td>\n",
       "      <td>11947</td>\n",
       "    </tr>\n",
       "  </tbody>\n",
       "</table>\n",
       "</div>"
      ],
      "text/plain": [
       "            0      1\n",
       "count   26542  11947\n",
       "unique      2      1\n",
       "top         M       \n",
       "freq    14595  11947"
      ]
     },
     "execution_count": 11,
     "metadata": {},
     "output_type": "execute_result"
    }
   ],
   "source": [
    "split_genders.describe()"
   ]
  },
  {
   "cell_type": "code",
   "execution_count": 12,
   "metadata": {},
   "outputs": [
    {
     "data": {
      "text/plain": [
       "0        [, ]\n",
       "1        [, ]\n",
       "2        [, ]\n",
       "3        [, ]\n",
       "4        [, ]\n",
       "         ... \n",
       "26648     [F]\n",
       "26649     [F]\n",
       "26650     [F]\n",
       "26651     [F]\n",
       "26652     [F]\n",
       "Name: Gender, Length: 26542, dtype: object"
      ]
     },
     "execution_count": 12,
     "metadata": {},
     "output_type": "execute_result"
    }
   ],
   "source": [
    "runnerscleangroup_df['Gender'].str.split('M',n=1)"
   ]
  },
  {
   "cell_type": "code",
   "execution_count": 13,
   "metadata": {},
   "outputs": [
    {
     "data": {
      "text/html": [
       "<div>\n",
       "<style scoped>\n",
       "    .dataframe tbody tr th:only-of-type {\n",
       "        vertical-align: middle;\n",
       "    }\n",
       "\n",
       "    .dataframe tbody tr th {\n",
       "        vertical-align: top;\n",
       "    }\n",
       "\n",
       "    .dataframe thead th {\n",
       "        text-align: right;\n",
       "    }\n",
       "</style>\n",
       "<table border=\"1\" class=\"dataframe\">\n",
       "  <thead>\n",
       "    <tr style=\"text-align: right;\">\n",
       "      <th></th>\n",
       "      <th>0</th>\n",
       "      <th>1</th>\n",
       "    </tr>\n",
       "  </thead>\n",
       "  <tbody>\n",
       "    <tr>\n",
       "      <th>0</th>\n",
       "      <td></td>\n",
       "      <td></td>\n",
       "    </tr>\n",
       "    <tr>\n",
       "      <th>1</th>\n",
       "      <td></td>\n",
       "      <td></td>\n",
       "    </tr>\n",
       "    <tr>\n",
       "      <th>2</th>\n",
       "      <td></td>\n",
       "      <td></td>\n",
       "    </tr>\n",
       "    <tr>\n",
       "      <th>3</th>\n",
       "      <td></td>\n",
       "      <td></td>\n",
       "    </tr>\n",
       "    <tr>\n",
       "      <th>4</th>\n",
       "      <td></td>\n",
       "      <td></td>\n",
       "    </tr>\n",
       "    <tr>\n",
       "      <th>...</th>\n",
       "      <td>...</td>\n",
       "      <td>...</td>\n",
       "    </tr>\n",
       "    <tr>\n",
       "      <th>26648</th>\n",
       "      <td>F</td>\n",
       "      <td>None</td>\n",
       "    </tr>\n",
       "    <tr>\n",
       "      <th>26649</th>\n",
       "      <td>F</td>\n",
       "      <td>None</td>\n",
       "    </tr>\n",
       "    <tr>\n",
       "      <th>26650</th>\n",
       "      <td>F</td>\n",
       "      <td>None</td>\n",
       "    </tr>\n",
       "    <tr>\n",
       "      <th>26651</th>\n",
       "      <td>F</td>\n",
       "      <td>None</td>\n",
       "    </tr>\n",
       "    <tr>\n",
       "      <th>26652</th>\n",
       "      <td>F</td>\n",
       "      <td>None</td>\n",
       "    </tr>\n",
       "  </tbody>\n",
       "</table>\n",
       "<p>26542 rows × 2 columns</p>\n",
       "</div>"
      ],
      "text/plain": [
       "       0     1\n",
       "0             \n",
       "1             \n",
       "2             \n",
       "3             \n",
       "4             \n",
       "...   ..   ...\n",
       "26648  F  None\n",
       "26649  F  None\n",
       "26650  F  None\n",
       "26651  F  None\n",
       "26652  F  None\n",
       "\n",
       "[26542 rows x 2 columns]"
      ]
     },
     "execution_count": 13,
     "metadata": {},
     "output_type": "execute_result"
    }
   ],
   "source": [
    "split_genders = runnerscleangroup_df['Gender'].str.split('M',n=1,expand=True)\n",
    "split_genders"
   ]
  },
  {
   "cell_type": "code",
   "execution_count": 14,
   "metadata": {},
   "outputs": [
    {
     "data": {
      "text/html": [
       "<div>\n",
       "<style scoped>\n",
       "    .dataframe tbody tr th:only-of-type {\n",
       "        vertical-align: middle;\n",
       "    }\n",
       "\n",
       "    .dataframe tbody tr th {\n",
       "        vertical-align: top;\n",
       "    }\n",
       "\n",
       "    .dataframe thead th {\n",
       "        text-align: right;\n",
       "    }\n",
       "</style>\n",
       "<table border=\"1\" class=\"dataframe\">\n",
       "  <thead>\n",
       "    <tr style=\"text-align: right;\">\n",
       "      <th></th>\n",
       "      <th>0</th>\n",
       "      <th>1</th>\n",
       "    </tr>\n",
       "  </thead>\n",
       "  <tbody>\n",
       "    <tr>\n",
       "      <th>count</th>\n",
       "      <td>26542</td>\n",
       "      <td>14595</td>\n",
       "    </tr>\n",
       "    <tr>\n",
       "      <th>unique</th>\n",
       "      <td>2</td>\n",
       "      <td>1</td>\n",
       "    </tr>\n",
       "    <tr>\n",
       "      <th>top</th>\n",
       "      <td></td>\n",
       "      <td></td>\n",
       "    </tr>\n",
       "    <tr>\n",
       "      <th>freq</th>\n",
       "      <td>14595</td>\n",
       "      <td>14595</td>\n",
       "    </tr>\n",
       "  </tbody>\n",
       "</table>\n",
       "</div>"
      ],
      "text/plain": [
       "            0      1\n",
       "count   26542  14595\n",
       "unique      2      1\n",
       "top                 \n",
       "freq    14595  14595"
      ]
     },
     "execution_count": 14,
     "metadata": {},
     "output_type": "execute_result"
    }
   ],
   "source": [
    "split_genders.describe()"
   ]
  },
  {
   "cell_type": "code",
   "execution_count": 15,
   "metadata": {},
   "outputs": [
    {
     "data": {
      "text/plain": [
       "<bound method NDFrame.describe of        OfficialTime\n",
       "Gender             \n",
       "M           2:07:57\n",
       "M           2:07:59\n",
       "M           2:08:07\n",
       "M           2:08:54\n",
       "M           2:08:55\n",
       "...             ...\n",
       "F           6:16:56\n",
       "F           6:18:13\n",
       "F           6:21:19\n",
       "F           6:22:27\n",
       "F           6:35:50\n",
       "\n",
       "[26542 rows x 1 columns]>"
      ]
     },
     "execution_count": 15,
     "metadata": {},
     "output_type": "execute_result"
    }
   ],
   "source": [
    "runnersgender.describe"
   ]
  },
  {
   "cell_type": "code",
   "execution_count": 22,
   "metadata": {},
   "outputs": [
    {
     "data": {
      "image/png": "[encoded data removed]",
      "text/plain": [
       "<Figure size 432x288 with 1 Axes>"
      ]
     },
     "metadata": {
      "needs_background": "light"
     },
     "output_type": "display_data"
    },
    {
     "data": {
      "text/plain": [
       "<Figure size 432x288 with 0 Axes>"
      ]
     },
     "metadata": {},
     "output_type": "display_data"
    }
   ],
   "source": [
    "#Display a bar graph that illustrates the str/list from above \n",
    "\n",
    "import matplotlib.pyplot as plt\n",
    "\n",
    "N = 5\n",
    "\n",
    "menMeans = (2075, 2075, 2008, 2008, 2008)\n",
    "womenMeans = (61656, 6181, 6211, 6222, 6355 )\n",
    "ind = np.arange(N) # the x locations for the groups\n",
    "width = 0.35\n",
    "fig = plt.figure()\n",
    "\n",
    "ax = fig.add_axes([0,0,1,1])\n",
    "ax.bar(ind, menMeans, width, color='c')\n",
    "ax.bar(ind, womenMeans, width,bottom=menMeans, color='y')\n",
    "ax.set_ylabel('Overall Time')\n",
    "ax.set_title('Official Time For Men & Women')\n",
    "ax.set_yticks(np.arange(0, 6000, 10))\n",
    "ax.legend(labels=['Men', 'Women'])\n",
    "\n",
    "plt.show()\n",
    "plt.savefig(\"output/Official Time Differences Data\")"
   ]
  },
  {
   "cell_type": "code",
   "execution_count": 17,
   "metadata": {},
   "outputs": [],
   "source": [
    "# Create DataFrame Create Histograms using Pandas to determin the \n",
    "# Does Gender affect the runners’ performance?\n",
    "\n",
    "# Alternate Hypothesis: If gender is related to the runner's performance then one gender would have a shorter finishing time than the other gender.\n",
    "\n",
    "# Null-Hypothesis: If gender is not related to the runner's performance then one gender would not have a shorter finishing time than the other gender."
   ]
  },
  {
   "cell_type": "code",
   "execution_count": 18,
   "metadata": {},
   "outputs": [],
   "source": [
    "%matplotlib inline\n",
    "import pandas as pd\n",
    "import scipy.stats as stats"
   ]
  },
  {
   "cell_type": "code",
   "execution_count": 19,
   "metadata": {},
   "outputs": [
    {
     "data": {
      "text/plain": [
       "<function print>"
      ]
     },
     "execution_count": 19,
     "metadata": {},
     "output_type": "execute_result"
    }
   ],
   "source": [
    "df = runnerscleangroup_df\n",
    "# applying get() function  \n",
    "df.get(\"Gender\", \"OfficialTime\")\n",
    "print"
   ]
  },
  {
   "cell_type": "code",
   "execution_count": 20,
   "metadata": {},
   "outputs": [
    {
     "data": {
      "image/png": "[encoded data removed]",
      "text/plain": [
       "<Figure size 432x288 with 1 Axes>"
      ]
     },
     "metadata": {
      "needs_background": "light"
     },
     "output_type": "display_data"
    },
    {
     "data": {
      "image/png": "[encoded data removed]",
      "text/plain": [
       "<Figure size 432x288 with 1 Axes>"
      ]
     },
     "metadata": {
      "needs_background": "light"
     },
     "output_type": "display_data"
    }
   ],
   "source": [
    "#Broken down each Gender based off Finshed time within SubGroups in Gender\n",
    "\n",
    "subgrouplabel.plot.hist(bins=100, alpha=0.6)\n",
    "stats.f_oneway\n",
    "\n",
    "plt.savefig(\"output/sub_group_Genders\")\n",
    "plt.show()"
   ]
  },
  {
   "cell_type": "code",
   "execution_count": null,
   "metadata": {},
   "outputs": [],
   "source": []
  },
  {
   "cell_type": "code",
   "execution_count": null,
   "metadata": {},
   "outputs": [],
   "source": []
  }
 ],
 "metadata": {
  "kernelspec": {
   "display_name": "Python [conda env:PythonData]",
   "language": "python",
   "name": "conda-env-PythonData-py"
  },
  "language_info": {
   "codemirror_mode": {
    "name": "ipython",
    "version": 3
   },
   "file_extension": ".py",
   "mimetype": "text/x-python",
   "name": "python",
   "nbconvert_exporter": "python",
   "pygments_lexer": "ipython3",
   "version": "3.6.10"
  }
 },
 "nbformat": 4,
 "nbformat_minor": 4
}
